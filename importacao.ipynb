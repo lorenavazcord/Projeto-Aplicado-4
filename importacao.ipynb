{
 "cells": [
  {
   "cell_type": "code",
   "execution_count": 1,
   "id": "529e7b76",
   "metadata": {},
   "outputs": [],
   "source": [
    "import pandas as pd\n",
    "import os\n"
   ]
  },
  {
   "cell_type": "code",
   "execution_count": 2,
   "id": "0c66dd06",
   "metadata": {},
   "outputs": [
    {
     "data": {
      "text/plain": [
       "['ConsolidadoMunicipio-2000-2004.xlsx',\n",
       " 'ConsolidadoMunicipio-2005-2009.xlsx',\n",
       " 'ConsolidadoMunicipio-2010-2014.xlsx',\n",
       " 'ConsolidadoMunicipio-2015-2019.xlsx',\n",
       " 'ConsolidadoMunicipio-2020-2022.xlsx']"
      ]
     },
     "execution_count": 2,
     "metadata": {},
     "output_type": "execute_result"
    }
   ],
   "source": [
    "file_names = os.listdir('datasets_parciais_xlsx') \n",
    "file_names"
   ]
  },
  {
   "cell_type": "code",
   "execution_count": 4,
   "id": "74446df4",
   "metadata": {},
   "outputs": [],
   "source": [
    "df = pd.DataFrame()\n",
    "\n",
    "for file in file_names:\n",
    "        if 'xlsx' in file:\n",
    "            partial_df = pd.read_excel(f'datasets_parciais_xlsx/{file}')\n",
    "            df = pd.concat([df,partial_df])\n",
    "\n",
    "df.to_excel('full_dataset/Municipio-2000-2022.xlsx')"
   ]
  }
 ],
 "metadata": {
  "language_info": {
   "name": "python"
  }
 },
 "nbformat": 4,
 "nbformat_minor": 5
}
